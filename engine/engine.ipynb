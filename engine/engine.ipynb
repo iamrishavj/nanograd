{
 "cells": [
  {
   "cell_type": "code",
   "execution_count": 45,
   "id": "7440ea8e-bb2e-4fc3-b1c2-d898aaf190a9",
   "metadata": {},
   "outputs": [],
   "source": [
    "class Scalar:\n",
    "    def __init__(self, data, grad = 0):\n",
    "        self.data = data\n",
    "        self.grad = grad\n",
    "    def __repr__(self):\n",
    "        return f\"Scalar(Value: {self.data} Grad: {self.grad})\"\n",
    "    def __add__(self, other):\n",
    "        other = other if isinstance(other, Scalar) else Scalar(other)\n",
    "        out = Scalar(self.data + other.data)\n",
    "        return out\n",
    "    def __radd__(self, other):\n",
    "        return self + other\n",
    "    def __mul__(self, other):\n",
    "        other = other if isinstance(other, Scalar) else Scalar(other)\n",
    "        out = Scalar(self.data * other.data)\n",
    "        return out\n",
    "    def __rmul__(self, other):\n",
    "        return self * other\n",
    "    def __pow__(self, other):\n",
    "        other = other if isinstance(other, Scalar) else Scalar(other)\n",
    "        out = Scalar(self.data ** other.data)\n",
    "        return out\n",
    "    def __rpow__(self, other):\n",
    "        return self ** other\n",
    "    def exp(self):\n",
    "        return 2.718281828459045 ** self\n",
    "        "
   ]
  },
  {
   "cell_type": "code",
   "execution_count": 46,
   "id": "6d20917a-2672-44c0-9c17-ca235a6d91eb",
   "metadata": {},
   "outputs": [
    {
     "data": {
      "text/plain": [
       "Scalar(Value: 6.5808859910179205 Grad: 0)"
      ]
     },
     "execution_count": 46,
     "metadata": {},
     "output_type": "execute_result"
    }
   ],
   "source": [
    "a = Scalar(2)\n",
    "b = 3\n",
    "a.exp()"
   ]
  },
  {
   "cell_type": "code",
   "execution_count": null,
   "id": "3e1e54a5-46cf-4841-a16a-366693bb8399",
   "metadata": {},
   "outputs": [],
   "source": []
  }
 ],
 "metadata": {
  "kernelspec": {
   "display_name": "Python 3 (ipykernel)",
   "language": "python",
   "name": "python3"
  },
  "language_info": {
   "codemirror_mode": {
    "name": "ipython",
    "version": 3
   },
   "file_extension": ".py",
   "mimetype": "text/x-python",
   "name": "python",
   "nbconvert_exporter": "python",
   "pygments_lexer": "ipython3",
   "version": "3.11.4"
  }
 },
 "nbformat": 4,
 "nbformat_minor": 5
}
