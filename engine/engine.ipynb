{
 "cells": [
  {
   "cell_type": "code",
   "execution_count": 19,
   "id": "7440ea8e-bb2e-4fc3-b1c2-d898aaf190a9",
   "metadata": {},
   "outputs": [],
   "source": [
    "import math as Math\n",
    "\n",
    "class Scalar:\n",
    "    def __init__(self, data, grad = 0):\n",
    "        self.data = data\n",
    "        self.grad = grad\n",
    "    def __repr__(self):\n",
    "        return f\"Scalar(Value: {self.data} Grad: {self.grad})\"\n",
    "    def __add__(self, other):\n",
    "        other = other if isinstance(other, Scalar) else Scalar(other)\n",
    "        out = Scalar(self.data + other.data)\n",
    "        return out\n",
    "    def __radd__(self, other):\n",
    "        return self + other # other + self\n",
    "    def __sub__(self, other):\n",
    "        other = other if isinstance(other, Scalar) else Scalar(other)\n",
    "        out = Scalar(self.data - other.data)\n",
    "        return out\n",
    "    def __rsub__(self, other):\n",
    "        return -self + other # -(other - self)\n",
    "    def __neg__(self):\n",
    "        return -1 * self\n",
    "    def __mul__(self, other):\n",
    "        other = other if isinstance(other, Scalar) else Scalar(other)\n",
    "        out = Scalar(self.data * other.data)\n",
    "        return out\n",
    "    def __rmul__(self, other):\n",
    "        return self * other # other * self\n",
    "    def __pow__(self, other):\n",
    "        other = other if isinstance(other, Scalar) else Scalar(other)\n",
    "        out = Scalar(self.data ** other.data)\n",
    "        return out\n",
    "    def __rpow__(self, other):\n",
    "        return self ** other # other ** self\n",
    "    def __truediv__(self, other):\n",
    "        return self * (other ** -1)\n",
    "    def exp(self):\n",
    "        return Math.e ** self # e**self\n",
    "    def log10(self):\n",
    "        out = Math.log10(self.data)\n",
    "        return Scalar(out)\n",
    "    def ln(self):\n",
    "        out = Math.log(self.data)\n",
    "        return Scalar(out)\n",
    "    #activations\n",
    "    def relu(self):\n",
    "        activation = self.data if self.data > 0 else 0\n",
    "        return Scalar(activation)\n",
    "    def tanh(self):\n",
    "        expo = (2 * self).exp()\n",
    "        activation = (expo - 1)/(expo + 1)\n",
    "        return Scalar(activation)\n",
    "    \n",
    "        "
   ]
  },
  {
   "cell_type": "code",
   "execution_count": null,
   "id": "6d20917a-2672-44c0-9c17-ca235a6d91eb",
   "metadata": {},
   "outputs": [],
   "source": []
  },
  {
   "cell_type": "code",
   "execution_count": null,
   "id": "3e1e54a5-46cf-4841-a16a-366693bb8399",
   "metadata": {},
   "outputs": [],
   "source": []
  }
 ],
 "metadata": {
  "kernelspec": {
   "display_name": "Python 3 (ipykernel)",
   "language": "python",
   "name": "python3"
  },
  "language_info": {
   "codemirror_mode": {
    "name": "ipython",
    "version": 3
   },
   "file_extension": ".py",
   "mimetype": "text/x-python",
   "name": "python",
   "nbconvert_exporter": "python",
   "pygments_lexer": "ipython3",
   "version": "3.11.4"
  }
 },
 "nbformat": 4,
 "nbformat_minor": 5
}
